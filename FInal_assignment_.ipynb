{
 "cells": [
  {
   "cell_type": "markdown",
   "id": "dd4de8db",
   "metadata": {},
   "source": [
    "# Data Science Tools and Ecosystem"
   ]
  },
  {
   "cell_type": "markdown",
   "id": "27c44564",
   "metadata": {},
   "source": [
    "In this notebook, Data Science Tools and Ecosystem are summarized."
   ]
  },
  {
   "cell_type": "markdown",
   "id": "e8900787",
   "metadata": {},
   "source": [
    "### Objectives:\n",
    "- Introduced jupyter notebook, how to make notebooks, and using markdown and code cells\n",
    "- Introduced R, how to import libraries, and how to make some basic plots\n",
    "- introduced Github, how to make a new repository, and how to upload code to the repository \n"
   ]
  },
  {
   "cell_type": "markdown",
   "id": "84d5a3d2",
   "metadata": {},
   "source": [
    "## Some of the popular languages that Data Scientists use are:\n",
    "\n",
    "1. Python\n",
    "2. R\n",
    "3. Julia"
   ]
  },
  {
   "cell_type": "markdown",
   "id": "600dfc78",
   "metadata": {},
   "source": [
    "## Some of the commonly used libraries used by Data Scientists include:\n",
    "\n",
    "1. Numpy\n",
    "2. Pandas\n",
    "3. matplotlib"
   ]
  },
  {
   "cell_type": "markdown",
   "id": "c469d0b3",
   "metadata": {},
   "source": [
    "\n",
    "|Data Science Tools |\n",
    "| --- |\n",
    "| RStudio | \n",
    "| spyder | \n",
    "| Apache Spark | \n",
    "| Jupyter notebook | "
   ]
  },
  {
   "cell_type": "markdown",
   "id": "7d3ce637",
   "metadata": {},
   "source": [
    "### Some arithmetic examples in python:"
   ]
  },
  {
   "cell_type": "code",
   "execution_count": 1,
   "id": "a6e65a59",
   "metadata": {},
   "outputs": [
    {
     "data": {
      "text/plain": [
       "17"
      ]
     },
     "execution_count": 1,
     "metadata": {},
     "output_type": "execute_result"
    }
   ],
   "source": [
    "# This a simple arithmetic expression to mutiply then add integers\n",
    "(3*4)+5\n"
   ]
  },
  {
   "cell_type": "code",
   "execution_count": 4,
   "id": "444b3c64",
   "metadata": {},
   "outputs": [
    {
     "name": "stdout",
     "output_type": "stream",
     "text": [
      "3.3333333333333335\n"
     ]
    }
   ],
   "source": [
    "# This will convert 200 minutes to hours by dividing by 60\n",
    "minutes = 200\n",
    "hours = minutes / 60\n",
    "print(hours)\n"
   ]
  },
  {
   "cell_type": "markdown",
   "id": "f106c518",
   "metadata": {},
   "source": [
    "## Author: \n",
    "Tyler T."
   ]
  },
  {
   "cell_type": "code",
   "execution_count": null,
   "id": "4c8c928d",
   "metadata": {},
   "outputs": [],
   "source": []
  }
 ],
 "metadata": {
  "kernelspec": {
   "display_name": "Python 3 (ipykernel)",
   "language": "python",
   "name": "python3"
  },
  "language_info": {
   "codemirror_mode": {
    "name": "ipython",
    "version": 3
   },
   "file_extension": ".py",
   "mimetype": "text/x-python",
   "name": "python",
   "nbconvert_exporter": "python",
   "pygments_lexer": "ipython3",
   "version": "3.11.5"
  }
 },
 "nbformat": 4,
 "nbformat_minor": 5
}
